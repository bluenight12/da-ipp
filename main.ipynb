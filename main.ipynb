{
 "cells": [
  {
   "cell_type": "code",
   "execution_count": 1,
   "id": "45217f2a-6965-49e6-85ba-07863b2b3fe1",
   "metadata": {},
   "outputs": [
    {
     "name": "stdout",
     "output_type": "stream",
     "text": [
      "...load U2NET---173.6 MB\n"
     ]
    }
   ],
   "source": [
    "# 1번 초기화면에서 화면을 터치할 때\n",
    "# Client Server 방식\n",
    "# detection/age-gender를 통해 나이 성별을 가져오고 옷 뿌릴 준비\n",
    "import os\n",
    "import cv2\n",
    "import threading\n",
    "from detection import age_gender\n",
    "from Voice import recognize_text_module\n",
    "from Voice import translate_korean_to_english\n",
    "from Voice import clothes_extractor\n",
    "from ACGPN import run\n",
    "\n",
    "\n",
    "photo = run.RUN()\n",
    "\n",
    "\n",
    "def first_step():\n",
    "    face_detector = age_gender.FaceDetection(model_xml='detection/model/face-detection-retail-0005/face-detection-retail-0005.xml',\n",
    "                                             model_bin='detection/model/face-detection-retail-0005/face-detection-retail-0005.bin')\n",
    "\n",
    "    age_gender_predictor = age_gender.AgeGenderPrediction(model_xml='detection/model/age-gender-recognition-retail-0013/age-gender-recognition-retail-0013.xml',\n",
    "                                                          model_bin='detection/model/age-gender-recognition-retail-0013/age-gender-recognition-retail-0013.bin')\n",
    "    \n",
    "    # thread_1 = threading.Thread(target=photo.take_photo, daemon=True)\n",
    "    # thread_1.start()\n",
    "    count = 0\n",
    "    gen = 'dd'\n",
    "    flag = 0\n",
    "    for i in photo.take_photo(flag):\n",
    "        cv2.imshow('photo', i)\n",
    "        \n",
    "        #crop image\n",
    "        faces = face_detector.run(i)\n",
    "\n",
    "        #predict age, gender\n",
    "        age, gender = age_gender_predictor.run(faces)\n",
    "\n",
    "        if age is not None:\n",
    "            if count >= 100: flag = 1;break\n",
    "            if gen == gender: count+=1\n",
    "            else: gen = gender\n",
    "        \n",
    "    cv2.destroyAllWindows()\n",
    "    print('for end')\n",
    "    return age, gender\n",
    "# # 2번 모드 선택 [1(옷 바로 선택) 2(음성)]\n",
    "# def second_step():\n",
    "#     get_option = ''\n",
    "#     if get_option == 1:\n",
    "#         third_by_one_step()\n",
    "#     elif get_option == 2:\n",
    "#         third_by_two_step()\n",
    "\n",
    "\n",
    "# # 3-1번 옷 바로 선택\n",
    "# def third_by_one_step():\n",
    "#     do_nothing = ''\n",
    "# # 옷 선택 UI 띄워주기\n",
    "\n",
    "\n",
    "# # 3-2번 음성 ( 옷 뿌려주고 )\n",
    "# def third_by_two_step():\n",
    "#     # 바로 음성을 받음 (추후에 count혹은 사용자가 버튼을 누르도록)\n",
    "#     recognize_text_module.recognize_and_save_text()\n",
    "#     # pip install googletrans==4.0.0rc1\n",
    "#     translate_korean_to_english.translate_korean_to_english(input_file='text.txt', output_file='english.txt')\n",
    "#     # 안에 정제 해야할 Value가 많음\n",
    "#     clothes_extractor.extract_clothes(f\"{os.path.dirname(os.path.realpath(__file__))}/Voice/english.txt\",\n",
    "#                                        f\"{os.path.dirname(os.path.realpath(__file__))}/Voice/clothes.txt\")\n",
    "# # Voice/recognize text module\n",
    "\n",
    "# # 3-3 사진 선택하기\n",
    "# def third_by_third_step():\n",
    "#     # DB에서 받아온 5개 정도 보여주고 제스처 넣어서 선택할 수 있게 하기\n",
    "#     do_nothing = ''\n",
    "#     # UI + HandGesture\n",
    "\n",
    "# # 4번 카메라에서 사진 가져오기(인식해서 사진찍는 타이밍 정하게 하기)\n",
    "# def fourth_step():\n",
    "#     photo.take_photo()\n",
    "\n",
    "\n",
    "# # 5번 4번에서 찍은 사진 의류 합성 시키기\n",
    "# def fifth_step():\n",
    "#     photo.get_cloth_mask()\n",
    "#     photo.get_image()\n",
    "#     photo.run_test()\n",
    "#     photo.set_background()\n",
    "# # 배경 넣기 전까지 단계를 해서 사진 생성\n",
    "\n",
    "# # 6번 배경 텍스트로 합성하기\n",
    "# #def sixth_step():\n",
    "# # 배경 합성한 사진 마무리 짓고 QR코드로 옷 사진 주기\n",
    "# # 마찬가지로 recognize text module"
   ]
  },
  {
   "cell_type": "code",
   "execution_count": 2,
   "id": "b0b89977-106f-4c64-a346-98683dc5acd9",
   "metadata": {
    "scrolled": true
   },
   "outputs": [
    {
     "name": "stdout",
     "output_type": "stream",
     "text": [
      "for end\n"
     ]
    },
    {
     "data": {
      "text/plain": [
       "(21.73771560192108, 'Male')"
      ]
     },
     "execution_count": 2,
     "metadata": {},
     "output_type": "execute_result"
    }
   ],
   "source": [
    "first_step()\n"
   ]
  },
  {
   "cell_type": "code",
   "execution_count": null,
   "id": "1f4a7875-03ce-4b34-973e-d1418b3f5b29",
   "metadata": {},
   "outputs": [],
   "source": []
  },
  {
   "cell_type": "code",
   "execution_count": null,
   "id": "91b39de9-a582-4aa6-a700-fca1d2597aea",
   "metadata": {},
   "outputs": [],
   "source": []
  },
  {
   "cell_type": "code",
   "execution_count": null,
   "id": "3882ca1f-afac-4996-ac77-7c8a7641c440",
   "metadata": {},
   "outputs": [],
   "source": []
  }
 ],
 "metadata": {
  "kernelspec": {
   "display_name": "Python 3 (ipykernel)",
   "language": "python",
   "name": "python3"
  },
  "language_info": {
   "codemirror_mode": {
    "name": "ipython",
    "version": 3
   },
   "file_extension": ".py",
   "mimetype": "text/x-python",
   "name": "python",
   "nbconvert_exporter": "python",
   "pygments_lexer": "ipython3",
   "version": "3.10.12"
  }
 },
 "nbformat": 4,
 "nbformat_minor": 5
}
